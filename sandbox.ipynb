{
 "cells": [
  {
   "cell_type": "code",
   "execution_count": null,
   "id": "3c2dee9a",
   "metadata": {},
   "outputs": [],
   "source": [
    "import requests\n",
    "from items import EMAIL, PASSWORD, API_KEY, API_URL\n",
    "\n",
    "url= API_URL + '?api_key='+ API_KEY"
   ]
  },
  {
   "cell_type": "code",
   "execution_count": null,
   "id": "ac6f872e",
   "metadata": {},
   "outputs": [],
   "source": [
    "# Send a GET request to the URL\n",
    "response = requests.get(url)"
   ]
  },
  {
   "cell_type": "code",
   "execution_count": null,
   "id": "b293cffd",
   "metadata": {},
   "outputs": [],
   "source": [
    "# Check if the request was successful (status code 200)\n",
    "if response.status_code == 200:\n",
    "    print(f\"Successfully retrieved content from {url}\")\n",
    "    print(\"Response content (first 500 characters):\")\n",
    "    print(response.text[:500]) # Print the first 500 characters of the response content\n",
    "else:\n",
    "    print(f\"Failed to retrieve content. Status code: {response.status_code}\")\n"
   ]
  },
  {
   "cell_type": "code",
   "execution_count": null,
   "id": "e4940eb4",
   "metadata": {},
   "outputs": [
    {
     "name": "stdout",
     "output_type": "stream",
     "text": [
      "200\n",
      "<html><body><script type=\"text/javascript\" src=\"/aes.js\" ></script><script>function toNumbers(d){var e=[];d.replace(/(..)/g,function(d){e.push(parseInt(d,16))});return e}function toHex(){for(var d=[],d=1==arguments.length&&arguments[0].constructor==Array?arguments[0]:arguments,e=\"\",f=0;f<d.length;f++)e+=(16>d[f]?\"0\":\"\")+d[f].toString(16);return e.toLowerCase()}var a=toNumbers(\"f655ba9d09a112d4968c63579db590b4\"),b=toNumbers(\"98344c2eee86c3994890592585b49f80\"),c=toNumbers(\"7c1f18f3f2f31792afee02ff\n"
     ]
    }
   ],
   "source": [
    "import requests\n",
    "from requests.adapters import HTTPAdapter\n",
    "from urllib3.util.retry import Retry\n",
    "from items import EMAIL, PASSWORD, API_KEY, API_URL\n",
    "\n",
    "session = requests.Session()\n",
    "session.headers.update({\n",
    "    # mimic a real browser enough to pass basic WAF checks\n",
    "    \"User-Agent\": (\"Mozilla/5.0 (Windows NT 10.0; Win64; x64) AppleWebKit/537.36 \"\n",
    "                   \"(KHTML, like Gecko) Chrome/126.0.0.0 Safari/537.36\"),\n",
    "    \"Accept\": \"text/html,application/xhtml+xml,application/xml;q=0.9,*/*;q=0.8\",\n",
    "    \"Accept-Language\": \"en-US,en;q=0.9\",\n",
    "    \"Connection\": \"keep-alive\",\n",
    "})\n",
    "\n",
    "retry = Retry(\n",
    "    total=3, connect=3, read=3, backoff_factor=0.5,\n",
    "    status_forcelist=(429, 500, 502, 503, 504),\n",
    "    allowed_methods=frozenset([\"GET\",\"POST\"])\n",
    ")\n",
    "session.mount(\"https://\", HTTPAdapter(max_retries=retry))\n",
    "\n",
    "# Prefer params over manual query strings if you must do GET:\n",
    "params = {\"api_key\": API_KEY}\n",
    "\n",
    "resp = session.get(API_URL, params=params, timeout=15, allow_redirects=True)\n",
    "print(resp.status_code)\n",
    "print(resp.text[:500])\n"
   ]
  },
  {
   "cell_type": "code",
   "execution_count": null,
   "id": "b03c4b7b",
   "metadata": {},
   "outputs": [],
   "source": []
  }
 ],
 "metadata": {
  "kernelspec": {
   "display_name": "venv (3.12.10)",
   "language": "python",
   "name": "python3"
  },
  "language_info": {
   "codemirror_mode": {
    "name": "ipython",
    "version": 3
   },
   "file_extension": ".py",
   "mimetype": "text/x-python",
   "name": "python",
   "nbconvert_exporter": "python",
   "pygments_lexer": "ipython3",
   "version": "3.12.10"
  }
 },
 "nbformat": 4,
 "nbformat_minor": 5
}
